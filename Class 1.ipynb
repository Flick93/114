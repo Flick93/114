{
 "cells": [
  {
   "cell_type": "code",
   "execution_count": 2,
   "id": "a8e8fd4c-866e-4795-843e-27f5e3915146",
   "metadata": {},
   "outputs": [
    {
     "name": "stdout",
     "output_type": "stream",
     "text": [
      "h\n",
      "e\n",
      "l\n",
      "l\n",
      "o\n",
      ",\n",
      " \n",
      "w\n",
      "o\n",
      "r\n",
      "l\n",
      "d\n",
      "!\n"
     ]
    }
   ],
   "source": [
    "for char in \"hello, world!\":\n",
    "    print(char)"
   ]
  },
  {
   "cell_type": "markdown",
   "id": "8a56f48b-7562-4308-92f6-a2c3f48fa9de",
   "metadata": {},
   "source": [
    "# Stacks and Queues\n",
    "Stacks and queues are ordered collections of elements. The ordering principle is important."
   ]
  },
  {
   "cell_type": "code",
   "execution_count": 10,
   "id": "618bb7ae-7a79-41c4-9310-3ea9c8a79391",
   "metadata": {},
   "outputs": [],
   "source": [
    "#Simplified implementation of Stack (relying on built-ins)\n",
    "\n",
    "class Stack:\n",
    "    def __init__(self):\n",
    "        self.items = []\n",
    "\n",
    "    def push(self, value):\n",
    "        self.items.append(value)\n",
    "\n",
    "    def pop(self):\n",
    "        return self.items.pop()\n",
    "\n",
    "    #Nice to have methods\n",
    "    def peek(self):\n",
    "        return self.items[len(self.items)-1]\n",
    "\n",
    "    def size(self):\n",
    "        return len(self.items)\n",
    "\n",
    "    def is_empty(self):\n",
    "        return self.items ==[]"
   ]
  },
  {
   "cell_type": "code",
   "execution_count": 22,
   "id": "366d4490-4b35-42c1-8fa9-aedddf8425fc",
   "metadata": {},
   "outputs": [],
   "source": [
    "# From Scratch implementation of Stack\n",
    "\n",
    "class StackII:\n",
    "    class __Node:\n",
    "       def __init__(self, data):\n",
    "        self.data = data\n",
    "        self.next = None\n",
    "\n",
    "    def __init__(self):\n",
    "        self.top = None\n",
    "\n",
    "    def push(self, value):\n",
    "        new_node = self.__Node(value)\n",
    "        if not self.top:\n",
    "            self.top = new_node\n",
    "        else:\n",
    "            new_node.below = self.top\n",
    "            self.top = new_node\n",
    "\n",
    "    def pop(self):\n",
    "        if self.top:\n",
    "            datum =sef.top.data\n",
    "            self.top = self.top.below\n",
    "            return datum\n",
    "        raise IndexError(\"Stack is empty\")\n",
    "\n",
    "    #Nice to have methods\n",
    "    def peek(self):\n",
    "        if self.top:\n",
    "            return self.top.data\n",
    "        raise IndexError(\"Stack is empty\")\n",
    "\n",
    "    def size(self):\n",
    "        # Node traversal\n",
    "        count = 0\n",
    "        if self.top:\n",
    "            current = self.top\n",
    "            while current:          #this is the same as while current is not None\n",
    "                count += 1          #this is the same as count = count + 1\n",
    "                current = current.below\n",
    "            return count\n",
    "\n",
    "    def is_empty(self):\n",
    "        return self.top == None"
   ]
  },
  {
   "cell_type": "code",
   "execution_count": 19,
   "id": "0da489b4-b49b-472f-a6b8-ee706dc43284",
   "metadata": {},
   "outputs": [],
   "source": [
    "\n",
    "def invert_str(mystring, class_name):\n",
    "    stack = class_name()\n",
    "    for char in mystring:\n",
    "        stack.push(char)\n",
    "        out = \"\"\n",
    "        while not stack.is_empty:\n",
    "            out += stack.pop()\n",
    "        return out"
   ]
  },
  {
   "cell_type": "code",
   "execution_count": 23,
   "id": "567648c2-9871-4500-8736-c76f4ba9a1c2",
   "metadata": {},
   "outputs": [
    {
     "name": "stdout",
     "output_type": "stream",
     "text": [
      "\n",
      "\n"
     ]
    }
   ],
   "source": [
    "# with built-in implementation\n",
    "print( invert_str(\"Paul\", Stack) )\n",
    "\n",
    "# with from-scratch implementation\n",
    "print( invert_str(\"Paul\", StackII) )"
   ]
  },
  {
   "cell_type": "code",
   "execution_count": 1,
   "id": "f95a19f7-e4ad-4bd4-a536-7501125fd3cb",
   "metadata": {},
   "outputs": [],
   "source": [
    "#Built-in implementation of Queues\n",
    "\n",
    "class Queue:\n",
    "    def __init__(self):\n",
    "        self.items = []\n",
    "\n",
    "    def enqueue(self, value):\n",
    "        self.items.insert(0, value)\n",
    "\n",
    "    def dequeue(self):\n",
    "        return self.items.pop()\n",
    "\n",
    "    #Nice to have methoods\n",
    "    def peek(self):\n",
    "        return self.items[len(self.items)-1]\n",
    "\n",
    "    def size(self):\n",
    "        return len(self.items)\n",
    "\n",
    "    def is_empty(self):\n",
    "        return self.items == []"
   ]
  },
  {
   "cell_type": "code",
   "execution_count": 2,
   "id": "7dceaa2b-d095-4d82-8085-0ceed2f43858",
   "metadata": {},
   "outputs": [],
   "source": [
    "# From scratch implementation ot QueueII\n",
    "\n",
    "class QueueII:\n",
    "    class __Node:\n",
    "       def __init__(self, data):\n",
    "        self.data = data\n",
    "        self.next = None\n",
    "\n",
    "    def __init__(self):\n",
    "        self.back = None\n",
    "        self.front = None\n",
    "\n",
    "    def enqueue(self, value):\n",
    "        pass\n",
    "\n",
    "    def dequeue(self):\n",
    "        pass\n",
    "\n",
    "    #Note: implement the nice to have methods"
   ]
  },
  {
   "cell_type": "code",
   "execution_count": 3,
   "id": "295d69ea-02ca-4253-a859-7996ffefbe18",
   "metadata": {},
   "outputs": [
    {
     "name": "stdout",
     "output_type": "stream",
     "text": [
      "Dequeued: 1\n",
      "Dequeued: 2\n",
      "Dequeued: 3\n",
      "Dequeued: 4\n",
      "Dequeued: 5\n",
      "Dequeued: 6\n",
      "Dequeued: 7\n",
      "Dequeued: 8\n",
      "Dequeued: 9\n",
      "Dequeued: 10\n"
     ]
    }
   ],
   "source": [
    "queue = Queue()\n",
    "for number in range(1, 11):\n",
    "    queue.enqueue(number)\n",
    "\n",
    "while not queue.is_empty():\n",
    "    print(\"Dequeued: %s\" % queue.dequeue())"
   ]
  },
  {
   "cell_type": "code",
   "execution_count": 4,
   "id": "28ea0662-ab17-4463-b089-ac52a164acff",
   "metadata": {},
   "outputs": [
    {
     "data": {
      "text/plain": [
       "1"
      ]
     },
     "execution_count": 4,
     "metadata": {},
     "output_type": "execute_result"
    }
   ],
   "source": [
    "1"
   ]
  },
  {
   "cell_type": "code",
   "execution_count": 17,
   "id": "1375864e-e458-46cb-ac2b-90399ec2a897",
   "metadata": {},
   "outputs": [
    {
     "ename": "IndentationError",
     "evalue": "expected an indented block after function definition on line 43 (3474540107.py, line 45)",
     "output_type": "error",
     "traceback": [
      "\u001b[0;36m  Cell \u001b[0;32mIn[17], line 45\u001b[0;36m\u001b[0m\n\u001b[0;31m    new_node = self.__Node(datum)\u001b[0m\n\u001b[0m    ^\u001b[0m\n\u001b[0;31mIndentationError\u001b[0m\u001b[0;31m:\u001b[0m expected an indented block after function definition on line 43\n"
     ]
    }
   ],
   "source": [
    "class SinglyLinkedList:\n",
    "    class __Node:\n",
    "        def __init__(self, datum):\n",
    "            self.data = datum\n",
    "            self.next = None\n",
    "\n",
    "    def __init__(self):\n",
    "        self.head = None\n",
    "        self.tall = None\n",
    "        self.size = 0\n",
    "\n",
    "    def append(self, value):\n",
    "        new_node = self.__Node(datum)\n",
    "        self.size += 1\n",
    "        if not self.head:\n",
    "            self.head = new_node\n",
    "            self.tail = new_node\n",
    "        else:\n",
    "            self.tail.next = new_node\n",
    "            self.tail = new_node\n",
    "\n",
    "    def remove(self, datum):\n",
    "        # removes the first instance of \"datum\"\n",
    "        if self.head:\n",
    "            previous = None\n",
    "            current = self.head\n",
    "            while current and current.data != datum:\n",
    "                previous = current\n",
    "                current = current.next\n",
    "            if not current:\n",
    "                raise ValueError(\"%s not found in list\" % datum)\n",
    "            else:\n",
    "                if previous:\n",
    "                    previous.next = current.next\n",
    "                else:\n",
    "                    self.head = self.head.next\n",
    "                    if not self.head:\n",
    "                        self.tail = None\n",
    "                self.size -= 1\n",
    "        else:\n",
    "            raise IndexError(\"List is empty\")\n",
    "\n",
    "    def insert(self, index, datum):\n",
    "    #This method should insert a new mode with \"datum\" before the target index.\n",
    "    new_node = self.__Node(datum)\n",
    "    self.size += 1\n",
    "    found = False\n",
    "    count = 0\n",
    "    if self.head:\n",
    "        current = self.head\n",
    "        if index == 0:\n",
    "            # this means we're attempting to replace the head node\n",
    "            new_node.next = self.head\n",
    "            self.head.prev = new_node\n",
    "            self.head = new_node\n",
    "        else:\n",
    "            while current.next:\n",
    "                if count == index:\n",
    "                    found = True\n",
    "                    break\n",
    "                current = current.next\n",
    "                count += 1\n",
    "            if found:\n",
    "                current.prev.next = new_node\n",
    "                new_node.prev = current.prev\n",
    "                new_node.next = current\n",
    "                current.prev = new_node\n",
    "            else:\n",
    "                self.append(datum)\n",
    "    else:\n",
    "        self.head = new_node\n",
    "        self.tail = new_node\n",
    "                \n",
    "\n",
    "    def __len__(self):\n",
    "        return self.size\n",
    "\n",
    "    def __str__(self):\n",
    "        out = \"|\"\n",
    "        if self.head:\n",
    "            current = self.head\n",
    "            out += \"%s\" % repr(current.data)\n",
    "        out += \"|\"\n",
    "        return out"
   ]
  },
  {
   "cell_type": "code",
   "execution_count": 13,
   "id": "9cd37870-ec2a-416a-a2c1-54341cfae573",
   "metadata": {},
   "outputs": [
    {
     "name": "stdout",
     "output_type": "stream",
     "text": [
      "Our list: |1|\n"
     ]
    }
   ],
   "source": [
    "sll = SinglyLinkedList()\n",
    "\n",
    "for number in range(1, 11):\n",
    "    sll.append(number)\n",
    "\n",
    "print(\"Our list: %s\" % sll)"
   ]
  },
  {
   "cell_type": "code",
   "execution_count": 15,
   "id": "845ad44e-d234-4979-a681-91c1dd81b218",
   "metadata": {},
   "outputs": [],
   "source": [
    "# From scratch implementation of doubly linked lists\n",
    "class DoublyLinkedList:\n",
    "    class __Node:\n",
    "        def __init__(self, datum):\n",
    "            self.data = datum\n",
    "            self.next = None\n",
    "            self.prev = None\n",
    "\n",
    "    def __init__(self):\n",
    "        self.head = None\n",
    "        self.tall = None\n",
    "        self.size = 0\n",
    "\n",
    "    def append(self, datum):            # Changed 'value' to 'datum' for consistency\n",
    "        new_node = self.__Node(datum)\n",
    "        self.size += 1\n",
    "        if not self.head:\n",
    "            self.head = new_node\n",
    "            self.tail = new_node\n",
    "        else:\n",
    "            new_node.prev = self.tail    # Set the prev pointer to current tail\n",
    "            self.tail.next = new_node\n",
    "            self.tail = new_node\n",
    "            \n",
    "    def remove(self, datum):\n",
    "        if self.head:\n",
    "            current = self.head\n",
    "            while current and current.data != datum:\n",
    "                current = current.next\n",
    "                \n",
    "            if not current:\n",
    "                raise ValueError(\"%s not found in list\" % datum)\n",
    "            else:\n",
    "                # Update the previous node's next pointer\n",
    "                if current.prev:\n",
    "                    current.prev.next = current.next\n",
    "                else:\n",
    "                    self.head = current.next\n",
    "                    \n",
    "                # Update the next node's prev pointer\n",
    "                if current.next:\n",
    "                    current.next.prev = current.prev\n",
    "                else:\n",
    "                    self.tail = current.prev\n",
    "                    \n",
    "                self.size -= 1\n",
    "        else:\n",
    "            raise IndexError(\"List is empty\")\n",
    "\n",
    "    def __len__(self):\n",
    "        #this method should return the total number of nder\n",
    "        return self.size\n",
    "\n",
    "    def __str__(self):\n",
    "        # this method should return the string representation of all the v alures stored on the list: (IE(1, 2, 3))\n",
    "        out = \"|\"\n",
    "        if self.head:\n",
    "            current = self.head\n",
    "            out += \"%s\" % repr(current.data)\n",
    "        out += \"|\"\n",
    "        return out\n",
    "    \n",
    "    def insert(self, index, datum):\n",
    "        #This method should insert a new mode with \"datum\" before the target index.\n",
    "        new_node = self.__Node(datum)\n",
    "        self.size += 1\n",
    "        found = False\n",
    "        count = 0\n",
    "        if self.head:\n",
    "            current = self.head\n",
    "            if index == 0:\n",
    "                # this means we're attempting to replace the head node\n",
    "                new_node.next = self.head\n",
    "                self.head.prev = new_node\n",
    "                self.head = new_node\n",
    "            else:\n",
    "                while current.next:\n",
    "                    if count == index:\n",
    "                        found = True\n",
    "                        break\n",
    "                    current = current.next\n",
    "                    count += 1\n",
    "                if found:\n",
    "                    current.prev.next = new_node\n",
    "                    new_node.prev = current.prev\n",
    "                    new_node.next = current\n",
    "                    current.prev = new_node\n",
    "                else:\n",
    "                    self.append(datum)\n",
    "        else:\n",
    "            self.head = new_node\n",
    "            self.tail = new_node\n"
   ]
  },
  {
   "cell_type": "code",
   "execution_count": 16,
   "id": "b97330d4-ed67-41cf-a75c-4492ff4e58fb",
   "metadata": {},
   "outputs": [
    {
     "name": "stdout",
     "output_type": "stream",
     "text": [
      "|1|\n"
     ]
    }
   ],
   "source": [
    "dll = DoublyLinkedList()\n",
    "\n",
    "# for when the list is not empty\n",
    "dll.insert(0, 1)\n",
    "\n",
    "# for when the list is not empty but the index exceeds the length of the list\n",
    "dll.insert(2, 3)\n",
    "\n",
    "# for when the list is not empty but the index does not exceed the length of the list\n",
    "dll.insert(0, 1)\n",
    "\n",
    "print(dll)"
   ]
  },
  {
   "cell_type": "code",
   "execution_count": 4,
   "id": "b6fe711a-ee52-4d03-abc4-34c4aedb7ced",
   "metadata": {},
   "outputs": [
    {
     "ename": "SyntaxError",
     "evalue": "invalid syntax (4208376142.py, line 16)",
     "output_type": "error",
     "traceback": [
      "\u001b[0;36m  Cell \u001b[0;32mIn[4], line 16\u001b[0;36m\u001b[0m\n\u001b[0;31m    return n = factorial(n-1)\u001b[0m\n\u001b[0m             ^\u001b[0m\n\u001b[0;31mSyntaxError\u001b[0m\u001b[0;31m:\u001b[0m invalid syntax\n"
     ]
    }
   ],
   "source": [
    "# A simple example of recursive functions: the factorial function\n",
    "# 5! = 5x4x3x2x1 = 120\n",
    "# 5! = 120\n",
    "# Another way to represent this,  focusing on recursion is the following:\n",
    "# 5! = 5x4!\n",
    "# 4! = 4x3!\n",
    "# 3! = 3x2!\n",
    "# 2! = 2x1!\n",
    "\n",
    "# The factorial of 0 is actually 1.\n",
    "# 0! = 1\n",
    "\n",
    "def factorial(n):\n",
    "    if n == 0:\n",
    "        return 1\n",
    "    return n = factorial(n-1)"
   ]
  },
  {
   "cell_type": "code",
   "execution_count": null,
   "id": "6d5bd8e3-689a-4ca6-b6d9-0f2750f0ebe0",
   "metadata": {},
   "outputs": [],
   "source": [
    "factorial(10)"
   ]
  },
  {
   "cell_type": "code",
   "execution_count": null,
   "id": "1a60798b-c2fa-4cb7-a224-c5f35ae9bf43",
   "metadata": {},
   "outputs": [],
   "source": [
    "# The fibonacci function haas long been a topic of discussion when it comes to \n",
    "# recursive functions as it creates multiple copies of itself in memory to solve a problem.\n",
    "\n",
    "# Base case:\n",
    "# F0 = 0 --> \"F sub-index 0 is 0\"\n",
    "# F1 = 1 --> \"F sub-index 1 is 1\"\n",
    "\n",
    "# Additional numbers in the series can be calculatedd with:\n",
    "# Fn = Fn-1 + Fn-2\n",
    "\n",
    "# 0, 1, 2, 3, 4, 5, 6, 7, 8\n",
    "# 0, 1, 1, 2, 3, 5, 8, 13, 21 ...\n",
    "\n",
    "# What is the 21st fibonacci number?\n",
    "# from functools import iru_cache\n",
    "\n",
    "# @lru_cache\n",
    "def fib(n):\n",
    "    if n < 2:\n",
    "        return n\n",
    "    return fib(n-1) + fib(n-2)"
   ]
  },
  {
   "cell_type": "code",
   "execution_count": null,
   "id": "069d776b-2cd3-4534-9f1b-51a305e17808",
   "metadata": {},
   "outputs": [],
   "source": [
    "fib(100)"
   ]
  },
  {
   "cell_type": "code",
   "execution_count": null,
   "id": "0483af3b-32d3-411a-9932-3bcfb6bcbd47",
   "metadata": {},
   "outputs": [],
   "source": [
    "# Psuedocode for fibonacci with dictionary\n",
    "\n",
    "# my dictionary = new dictionary\n",
    "# Define fibonacci with parameter n of type integer:\n",
    "#     if n < 2:\n",
    "#         return n\n",
    "#     if n is in dictionary:\n",
    "#         return the value for n from mydictionary\n",
    "#     else:\n",
    "#          out = fibonacci(n-1) + fibonacci(n-2)\n",
    "#          create a new key in mydictionary and set the value to out\n",
    "#          return out"
   ]
  }
 ],
 "metadata": {
  "kernelspec": {
   "display_name": "Python 3 (ipykernel)",
   "language": "python",
   "name": "python3"
  },
  "language_info": {
   "codemirror_mode": {
    "name": "ipython",
    "version": 3
   },
   "file_extension": ".py",
   "mimetype": "text/x-python",
   "name": "python",
   "nbconvert_exporter": "python",
   "pygments_lexer": "ipython3",
   "version": "3.12.3"
  }
 },
 "nbformat": 4,
 "nbformat_minor": 5
}
